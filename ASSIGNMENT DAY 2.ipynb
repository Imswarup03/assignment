{
 "cells": [
  {
   "cell_type": "markdown",
   "metadata": {},
   "source": [
    "##### Question 1\n",
    "1. Write a Python program to remove empty List from List.\n",
    " #### Question 2\n",
    "2.Write a Python program to remove all duplicates words from a given sentence\n",
    " #### Question 3\n",
    "3.Write a Python program to find all occurrences of a character in the given string"
   ]
  },
  {
   "cell_type": "code",
   "execution_count": 11,
   "metadata": {},
   "outputs": [
    {
     "name": "stdout",
     "output_type": "stream",
     "text": [
      "The original list is : [5, 6, [], 3, [], [], 9]\n",
      "List after empty list removal : [5, 6, 3, 9]\n"
     ]
    }
   ],
   "source": [
    "test_list = [5, 6, [], 3, [], [], 9]\n",
    "print(\"The original list is : \" + str(test_list))\n",
    "res = [ele for ele in test_list if ele != []] \n",
    "print (\"List after empty list removal : \" + str(res)) "
   ]
  },
  {
   "cell_type": "code",
   "execution_count": 3,
   "metadata": {},
   "outputs": [
    {
     "name": "stdout",
     "output_type": "stream",
     "text": [
      "SWARUP IS GOOD AND SUBHAM ALSO\n"
     ]
    }
   ],
   "source": [
    "s = \"SWARUP IS GOOD AND SUBHAM IS ALSO GOOD\"\n",
    "l = s.split() \n",
    "k = [] \n",
    "for i in l: \n",
    "  \n",
    "    # If condition is used to store unique string  \n",
    "    # in another list 'k'  \n",
    "    if (s.count(i)>1 and (i not in k)or s.count(i)==1): \n",
    "        k.append(i) \n",
    "print(' '.join(k)) "
   ]
  },
  {
   "cell_type": "code",
   "execution_count": 3,
   "metadata": {},
   "outputs": [
    {
     "name": "stdout",
     "output_type": "stream",
     "text": [
      "PLEASE ENTER YOUR STRING : HFBGHFGFNV\n",
      "PLEASE ENTER YOUR CHARACTER : G\n",
      "G  is Found at Position  4\n",
      "G  is Found at Position  7\n"
     ]
    }
   ],
   "source": [
    "str1 = input(\"PLEASE ENTER YOUR STRING : \")\n",
    "chr = input(\"PLEASE ENTER YOUR CHARACTER : \")\n",
    "\n",
    "for i in range(len(str1)):\n",
    "    if(str1[i] == chr ):\n",
    "        print(chr, \" is Found at Position \" , i + 1)"
   ]
  },
  {
   "cell_type": "code",
   "execution_count": null,
   "metadata": {},
   "outputs": [],
   "source": []
  }
 ],
 "metadata": {
  "kernelspec": {
   "display_name": "Python 3",
   "language": "python",
   "name": "python3"
  }
 },
 "nbformat": 4,
 "nbformat_minor": 4
}
